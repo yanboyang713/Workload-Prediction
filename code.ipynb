{
 "cells": [
  {
   "cell_type": "markdown",
   "id": "1d77ab14-a821-4661-96c3-6fb6d4c6d5dc",
   "metadata": {},
   "source": [
    "# Install packages"
   ]
  },
  {
   "cell_type": "code",
   "execution_count": 2,
   "id": "8a204ec4-917a-469a-ab4a-ee51a248c1fd",
   "metadata": {},
   "outputs": [
    {
     "name": "stdout",
     "output_type": "stream",
     "text": [
      "Collecting pandas\n",
      "  Downloading pandas-2.2.2-cp312-cp312-manylinux_2_17_x86_64.manylinux2014_x86_64.whl.metadata (19 kB)\n",
      "Collecting numpy>=1.26.0 (from pandas)\n",
      "  Using cached numpy-1.26.4-cp312-cp312-manylinux_2_17_x86_64.manylinux2014_x86_64.whl.metadata (61 kB)\n",
      "Requirement already satisfied: python-dateutil>=2.8.2 in /home/yanboyang713/.conda/envs/workload/lib/python3.12/site-packages (from pandas) (2.9.0)\n",
      "Requirement already satisfied: pytz>=2020.1 in /home/yanboyang713/.conda/envs/workload/lib/python3.12/site-packages (from pandas) (2024.1)\n",
      "Collecting tzdata>=2022.7 (from pandas)\n",
      "  Downloading tzdata-2024.1-py2.py3-none-any.whl.metadata (1.4 kB)\n",
      "Requirement already satisfied: six>=1.5 in /home/yanboyang713/.conda/envs/workload/lib/python3.12/site-packages (from python-dateutil>=2.8.2->pandas) (1.16.0)\n",
      "Downloading pandas-2.2.2-cp312-cp312-manylinux_2_17_x86_64.manylinux2014_x86_64.whl (12.7 MB)\n",
      "\u001b[2K   \u001b[38;2;114;156;31m━━━━━━━━━━━━━━━━━━━━━━━━━━━━━━━━━━━━━━━━\u001b[0m \u001b[32m12.7/12.7 MB\u001b[0m \u001b[31m7.2 MB/s\u001b[0m eta \u001b[36m0:00:00\u001b[0mm eta \u001b[36m0:00:01\u001b[0m[36m0:00:01\u001b[0m\n",
      "\u001b[?25hUsing cached numpy-1.26.4-cp312-cp312-manylinux_2_17_x86_64.manylinux2014_x86_64.whl (18.0 MB)\n",
      "Downloading tzdata-2024.1-py2.py3-none-any.whl (345 kB)\n",
      "\u001b[2K   \u001b[38;2;114;156;31m━━━━━━━━━━━━━━━━━━━━━━━━━━━━━━━━━━━━━━━━\u001b[0m \u001b[32m345.4/345.4 kB\u001b[0m \u001b[31m5.2 MB/s\u001b[0m eta \u001b[36m0:00:00\u001b[0m[31m7.1 MB/s\u001b[0m eta \u001b[36m0:00:01\u001b[0m\n",
      "\u001b[?25hInstalling collected packages: tzdata, numpy, pandas\n",
      "Successfully installed numpy-1.26.4 pandas-2.2.2 tzdata-2024.1\n"
     ]
    }
   ],
   "source": [
    "!pip install pandas"
   ]
  },
  {
   "cell_type": "markdown",
   "id": "cb97cb48-e83d-4fc7-bfe2-6f09d9a50b3d",
   "metadata": {},
   "source": [
    "# Read file"
   ]
  },
  {
   "cell_type": "code",
   "execution_count": 2,
   "id": "179596b5-dda1-4a52-9d38-db9511b4b8ef",
   "metadata": {},
   "outputs": [],
   "source": [
    "import pandas as pd\n",
    "import re\n",
    "\n",
    "# Define a function to parse each line of the log file\n",
    "def parse_log_line(line):\n",
    "    # Regex to extract timestamp and bytes\n",
    "    pattern = r'\\[(.*?)\\].*?(\\d+)$'\n",
    "    match = re.search(pattern, line)\n",
    "    if match:\n",
    "        timestamp = match.group(1)\n",
    "        bytes_sent = match.group(2)\n",
    "        return timestamp, int(bytes_sent)\n",
    "    else:\n",
    "        return None, None"
   ]
  },
  {
   "cell_type": "code",
   "execution_count": 3,
   "id": "4888fee7-2f90-4a7f-b60f-4bea94df6ba5",
   "metadata": {},
   "outputs": [],
   "source": [
    "# Let's first read the contents of the uploaded file to understand its structure and format.\n",
    "file_path = './datasets/calgary_HTTP'"
   ]
  },
  {
   "cell_type": "code",
   "execution_count": 4,
   "id": "3b09209c-5a1c-4139-bdb7-e3d2dbf1733f",
   "metadata": {},
   "outputs": [
    {
     "data": {
      "text/html": [
       "<div>\n",
       "<style scoped>\n",
       "    .dataframe tbody tr th:only-of-type {\n",
       "        vertical-align: middle;\n",
       "    }\n",
       "\n",
       "    .dataframe tbody tr th {\n",
       "        vertical-align: top;\n",
       "    }\n",
       "\n",
       "    .dataframe thead th {\n",
       "        text-align: right;\n",
       "    }\n",
       "</style>\n",
       "<table border=\"1\" class=\"dataframe\">\n",
       "  <thead>\n",
       "    <tr style=\"text-align: right;\">\n",
       "      <th></th>\n",
       "      <th>Timestamp</th>\n",
       "      <th>Bytes</th>\n",
       "    </tr>\n",
       "  </thead>\n",
       "  <tbody>\n",
       "    <tr>\n",
       "      <th>0</th>\n",
       "      <td>1994-10-24 19:41:41+00:00</td>\n",
       "      <td>150</td>\n",
       "    </tr>\n",
       "    <tr>\n",
       "      <th>1</th>\n",
       "      <td>1994-10-24 19:41:41+00:00</td>\n",
       "      <td>1210</td>\n",
       "    </tr>\n",
       "    <tr>\n",
       "      <th>2</th>\n",
       "      <td>1994-10-24 19:43:13+00:00</td>\n",
       "      <td>3185</td>\n",
       "    </tr>\n",
       "    <tr>\n",
       "      <th>3</th>\n",
       "      <td>1994-10-24 19:43:14+00:00</td>\n",
       "      <td>2555</td>\n",
       "    </tr>\n",
       "    <tr>\n",
       "      <th>4</th>\n",
       "      <td>1994-10-24 19:43:15+00:00</td>\n",
       "      <td>36403</td>\n",
       "    </tr>\n",
       "  </tbody>\n",
       "</table>\n",
       "</div>"
      ],
      "text/plain": [
       "                  Timestamp  Bytes\n",
       "0 1994-10-24 19:41:41+00:00    150\n",
       "1 1994-10-24 19:41:41+00:00   1210\n",
       "2 1994-10-24 19:43:13+00:00   3185\n",
       "3 1994-10-24 19:43:14+00:00   2555\n",
       "4 1994-10-24 19:43:15+00:00  36403"
      ]
     },
     "execution_count": 4,
     "metadata": {},
     "output_type": "execute_result"
    }
   ],
   "source": [
    "# Try reading the file with ISO-8859-1 encoding which is more permissive than UTF-8\n",
    "data = []\n",
    "with open(file_path, 'r', encoding='ISO-8859-1') as file:\n",
    "    for line in file:\n",
    "        ts, bytes_sent = parse_log_line(line)\n",
    "        if ts and bytes_sent is not None:\n",
    "            data.append((ts, bytes_sent))\n",
    "\n",
    "# Convert the list to a DataFrame\n",
    "df = pd.DataFrame(data, columns=['Timestamp', 'Bytes'])\n",
    "\n",
    "# Convert timestamp to datetime object for easier manipulation\n",
    "df['Timestamp'] = pd.to_datetime(df['Timestamp'], format='%d/%b/%Y:%H:%M:%S %z', utc=True)\n",
    "\n",
    "df.head()"
   ]
  },
  {
   "cell_type": "markdown",
   "id": "460e7d0b-aae5-410a-85c9-16ce862cf9ca",
   "metadata": {},
   "source": [
    "# "
   ]
  },
  {
   "cell_type": "code",
   "execution_count": 9,
   "id": "8822c087-6f5d-4eff-87e4-76423aed57f8",
   "metadata": {},
   "outputs": [
    {
     "name": "stdout",
     "output_type": "stream",
     "text": [
      "Mean Absolute Error: 10.0\n"
     ]
    }
   ],
   "source": [
    "def mean_absolute_error(actual, predicted):\n",
    "    return sum(abs(a - p) for a, p in zip(actual, predicted)) / len(actual)\n",
    "\n",
    "# Example usage with your actual and predicted data\n",
    "actual = [100, 200, 300, 400, 500]  # Replace with your actual data points\n",
    "predicted = [110, 190, 310, 390, 510]  # Replace with your predicted data points\n",
    "\n",
    "mae = mean_absolute_error(actual, predicted)\n",
    "print(\"Mean Absolute Error:\", mae)\n"
   ]
  },
  {
   "cell_type": "markdown",
   "id": "aa85f628-18b3-402b-9769-9c5e7f78e566",
   "metadata": {},
   "source": [
    "Check for Stationarity\n",
    "https://www.analyticsvidhya.com/blog/2021/08/vector-autoregressive-model-in-python/\n",
    "https://gist.github.com/kevincdurand1/e8307dfb3e370ca15bdbb97300037c71"
   ]
  },
  {
   "cell_type": "code",
   "execution_count": 13,
   "id": "264c3a86-1583-440e-a8a7-baaf537d2d62",
   "metadata": {},
   "outputs": [
    {
     "name": "stdout",
     "output_type": "stream",
     "text": [
      "Collecting statsmodels\n",
      "  Downloading statsmodels-0.14.2-cp312-cp312-manylinux_2_17_x86_64.manylinux2014_x86_64.whl.metadata (9.2 kB)\n",
      "Requirement already satisfied: numpy>=1.22.3 in /home/yanboyang713/.conda/envs/workload/lib/python3.12/site-packages (from statsmodels) (1.26.4)\n",
      "Collecting scipy!=1.9.2,>=1.8 (from statsmodels)\n",
      "  Using cached scipy-1.13.0-cp312-cp312-manylinux_2_17_x86_64.manylinux2014_x86_64.whl.metadata (60 kB)\n",
      "Requirement already satisfied: pandas!=2.1.0,>=1.4 in /home/yanboyang713/.conda/envs/workload/lib/python3.12/site-packages (from statsmodels) (2.2.2)\n",
      "Collecting patsy>=0.5.6 (from statsmodels)\n",
      "  Downloading patsy-0.5.6-py2.py3-none-any.whl.metadata (3.5 kB)\n",
      "Requirement already satisfied: packaging>=21.3 in /home/yanboyang713/.conda/envs/workload/lib/python3.12/site-packages (from statsmodels) (24.0)\n",
      "Requirement already satisfied: python-dateutil>=2.8.2 in /home/yanboyang713/.conda/envs/workload/lib/python3.12/site-packages (from pandas!=2.1.0,>=1.4->statsmodels) (2.9.0)\n",
      "Requirement already satisfied: pytz>=2020.1 in /home/yanboyang713/.conda/envs/workload/lib/python3.12/site-packages (from pandas!=2.1.0,>=1.4->statsmodels) (2024.1)\n",
      "Requirement already satisfied: tzdata>=2022.7 in /home/yanboyang713/.conda/envs/workload/lib/python3.12/site-packages (from pandas!=2.1.0,>=1.4->statsmodels) (2024.1)\n",
      "Requirement already satisfied: six in /home/yanboyang713/.conda/envs/workload/lib/python3.12/site-packages (from patsy>=0.5.6->statsmodels) (1.16.0)\n",
      "Downloading statsmodels-0.14.2-cp312-cp312-manylinux_2_17_x86_64.manylinux2014_x86_64.whl (10.7 MB)\n",
      "\u001b[2K   \u001b[38;2;114;156;31m━━━━━━━━━━━━━━━━━━━━━━━━━━━━━━━━━━━━━━━━\u001b[0m \u001b[32m10.7/10.7 MB\u001b[0m \u001b[31m6.5 MB/s\u001b[0m eta \u001b[36m0:00:00\u001b[0mm eta \u001b[36m0:00:01\u001b[0m[36m0:00:01\u001b[0m\n",
      "\u001b[?25hDownloading patsy-0.5.6-py2.py3-none-any.whl (233 kB)\n",
      "\u001b[2K   \u001b[38;2;114;156;31m━━━━━━━━━━━━━━━━━━━━━━━━━━━━━━━━━━━━━━━━\u001b[0m \u001b[32m233.9/233.9 kB\u001b[0m \u001b[31m9.0 MB/s\u001b[0m eta \u001b[36m0:00:00\u001b[0m\n",
      "\u001b[?25hUsing cached scipy-1.13.0-cp312-cp312-manylinux_2_17_x86_64.manylinux2014_x86_64.whl (38.2 MB)\n",
      "Installing collected packages: scipy, patsy, statsmodels\n",
      "Successfully installed patsy-0.5.6 scipy-1.13.0 statsmodels-0.14.2\n"
     ]
    }
   ],
   "source": [
    "!pip install statsmodels"
   ]
  },
  {
   "cell_type": "code",
   "execution_count": 5,
   "id": "02dbeefc-f21a-4ed0-81b6-e311955860ef",
   "metadata": {},
   "outputs": [],
   "source": [
    "from statsmodels.tsa.stattools import adfuller"
   ]
  },
  {
   "cell_type": "code",
   "execution_count": 6,
   "id": "d5defcae-e02c-4b75-8af8-cc389afa17d6",
   "metadata": {},
   "outputs": [],
   "source": [
    "def adf_test(series,title=''):\n",
    "    \"\"\"\n",
    "    Pass in a time series and an optional title, returns an ADF report\n",
    "    \"\"\"\n",
    "    print(f'Augmented Dickey-Fuller Test: {title}')\n",
    "    result = adfuller(series.dropna(),autolag='AIC') # .dropna() handles differenced data\n",
    "    labels = ['ADF test statistic','p-value','# lags used','# observations']\n",
    "    out = pd.Series(result[0:4],index=labels)\n",
    "    for key,val in result[4].items():\n",
    "        out[f'critical value ({key})']=val\n",
    "    print(out.to_string())          # .to_string() removes the line \"dtype: float64\"\n",
    "    if result[1] <= 0.05:\n",
    "        print(\"Strong evidence against the null hypothesis\")\n",
    "        print(\"Reject the null hypothesis\")\n",
    "        print(\"Data has no unit root and is stationary\")\n",
    "    else:\n",
    "        print(\"Weak evidence against the null hypothesis\")\n",
    "        print(\"Fail to reject the null hypothesis\")\n",
    "        print(\"Data has a unit root and is non-stationary\")"
   ]
  },
  {
   "cell_type": "code",
   "execution_count": null,
   "id": "e3bc783e-8099-42ac-bf2d-37c5a27ccb37",
   "metadata": {},
   "outputs": [],
   "source": []
  },
  {
   "cell_type": "code",
   "execution_count": null,
   "id": "1e79f7ab-fbd6-44f1-a6d7-27965ce965eb",
   "metadata": {},
   "outputs": [
    {
     "name": "stdout",
     "output_type": "stream",
     "text": [
      "Augmented Dickey-Fuller Test: \n"
     ]
    }
   ],
   "source": [
    "adf_test(df['Bytes'])"
   ]
  },
  {
   "cell_type": "code",
   "execution_count": null,
   "id": "171b4f5d-471d-4034-81de-fb0cdffcf927",
   "metadata": {},
   "outputs": [],
   "source": []
  }
 ],
 "metadata": {
  "kernelspec": {
   "display_name": "Python 3 (ipykernel)",
   "language": "python",
   "name": "python3"
  },
  "language_info": {
   "codemirror_mode": {
    "name": "ipython",
    "version": 3
   },
   "file_extension": ".py",
   "mimetype": "text/x-python",
   "name": "python",
   "nbconvert_exporter": "python",
   "pygments_lexer": "ipython3",
   "version": "3.12.3"
  }
 },
 "nbformat": 4,
 "nbformat_minor": 5
}
