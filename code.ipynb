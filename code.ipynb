{
 "cells": [
  {
   "cell_type": "markdown",
   "id": "046a52d4-b466-4991-8dbe-9a5b359663cc",
   "metadata": {},
   "source": [
    "# Create a New Environment"
   ]
  },
  {
   "cell_type": "code",
   "execution_count": null,
   "id": "0e4e0f14-7eb8-46c6-bd73-02743de73b61",
   "metadata": {},
   "outputs": [],
   "source": [
    "mamba create -n myjlabenv python=3.8 jupyterlab -c conda-forge\n",
    "mamba activate myjlabenv\n",
    "jupyter lab"
   ]
  },
  {
   "cell_type": "markdown",
   "id": "1d77ab14-a821-4661-96c3-6fb6d4c6d5dc",
   "metadata": {},
   "source": [
    "# Install packages"
   ]
  },
  {
   "cell_type": "code",
   "execution_count": 2,
   "id": "8a204ec4-917a-469a-ab4a-ee51a248c1fd",
   "metadata": {},
   "outputs": [
    {
     "name": "stdout",
     "output_type": "stream",
     "text": [
      "Collecting pandas\n",
      "  Downloading pandas-2.2.2-cp312-cp312-manylinux_2_17_x86_64.manylinux2014_x86_64.whl.metadata (19 kB)\n",
      "Collecting numpy>=1.26.0 (from pandas)\n",
      "  Using cached numpy-1.26.4-cp312-cp312-manylinux_2_17_x86_64.manylinux2014_x86_64.whl.metadata (61 kB)\n",
      "Requirement already satisfied: python-dateutil>=2.8.2 in /home/yanboyang713/.conda/envs/workload/lib/python3.12/site-packages (from pandas) (2.9.0)\n",
      "Requirement already satisfied: pytz>=2020.1 in /home/yanboyang713/.conda/envs/workload/lib/python3.12/site-packages (from pandas) (2024.1)\n",
      "Collecting tzdata>=2022.7 (from pandas)\n",
      "  Downloading tzdata-2024.1-py2.py3-none-any.whl.metadata (1.4 kB)\n",
      "Requirement already satisfied: six>=1.5 in /home/yanboyang713/.conda/envs/workload/lib/python3.12/site-packages (from python-dateutil>=2.8.2->pandas) (1.16.0)\n",
      "Downloading pandas-2.2.2-cp312-cp312-manylinux_2_17_x86_64.manylinux2014_x86_64.whl (12.7 MB)\n",
      "\u001b[2K   \u001b[38;2;114;156;31m━━━━━━━━━━━━━━━━━━━━━━━━━━━━━━━━━━━━━━━━\u001b[0m \u001b[32m12.7/12.7 MB\u001b[0m \u001b[31m7.2 MB/s\u001b[0m eta \u001b[36m0:00:00\u001b[0mm eta \u001b[36m0:00:01\u001b[0m[36m0:00:01\u001b[0m\n",
      "\u001b[?25hUsing cached numpy-1.26.4-cp312-cp312-manylinux_2_17_x86_64.manylinux2014_x86_64.whl (18.0 MB)\n",
      "Downloading tzdata-2024.1-py2.py3-none-any.whl (345 kB)\n",
      "\u001b[2K   \u001b[38;2;114;156;31m━━━━━━━━━━━━━━━━━━━━━━━━━━━━━━━━━━━━━━━━\u001b[0m \u001b[32m345.4/345.4 kB\u001b[0m \u001b[31m5.2 MB/s\u001b[0m eta \u001b[36m0:00:00\u001b[0m[31m7.1 MB/s\u001b[0m eta \u001b[36m0:00:01\u001b[0m\n",
      "\u001b[?25hInstalling collected packages: tzdata, numpy, pandas\n",
      "Successfully installed numpy-1.26.4 pandas-2.2.2 tzdata-2024.1\n"
     ]
    }
   ],
   "source": [
    "!pip install pandas"
   ]
  },
  {
   "cell_type": "markdown",
   "id": "cb97cb48-e83d-4fc7-bfe2-6f09d9a50b3d",
   "metadata": {},
   "source": [
    "# Read file"
   ]
  },
  {
   "cell_type": "code",
   "execution_count": 39,
   "id": "179596b5-dda1-4a52-9d38-db9511b4b8ef",
   "metadata": {},
   "outputs": [],
   "source": [
    "import pandas as pd\n",
    "import re\n",
    "\n",
    "# Define a function to parse each line of the log file\n",
    "def parse_log_line(line):\n",
    "    pattern = r'([^\\s]+) - - \\[(.*?)\\] \"(.*?)\" (\\d{3}) (\\d+)$'\n",
    "    match = re.search(pattern, line)\n",
    "    if match:\n",
    "        host = match.group(1)\n",
    "        timestamp = match.group(2)\n",
    "        filename = match.group(3).split()[1] if len(match.group(3).split()) > 1 else None  # To handle potential bad entries\n",
    "        http_reply_code = match.group(4)\n",
    "        bytes_sent = match.group(5)\n",
    "        return host, timestamp, filename, http_reply_code, int(bytes_sent)\n",
    "    else:\n",
    "        return None, None, None, None, None"
   ]
  },
  {
   "cell_type": "code",
   "execution_count": 40,
   "id": "4888fee7-2f90-4a7f-b60f-4bea94df6ba5",
   "metadata": {},
   "outputs": [],
   "source": [
    "# Let's first read the contents of the uploaded file to understand its structure and format.\n",
    "file_path = './datasets/calgary_HTTP'"
   ]
  },
  {
   "cell_type": "code",
   "execution_count": 41,
   "id": "3b09209c-5a1c-4139-bdb7-e3d2dbf1733f",
   "metadata": {},
   "outputs": [
    {
     "data": {
      "text/html": [
       "<div>\n",
       "<style scoped>\n",
       "    .dataframe tbody tr th:only-of-type {\n",
       "        vertical-align: middle;\n",
       "    }\n",
       "\n",
       "    .dataframe tbody tr th {\n",
       "        vertical-align: top;\n",
       "    }\n",
       "\n",
       "    .dataframe thead th {\n",
       "        text-align: right;\n",
       "    }\n",
       "</style>\n",
       "<table border=\"1\" class=\"dataframe\">\n",
       "  <thead>\n",
       "    <tr style=\"text-align: right;\">\n",
       "      <th></th>\n",
       "      <th>Host</th>\n",
       "      <th>Timestamp</th>\n",
       "      <th>Filename</th>\n",
       "      <th>HTTP_reply_code</th>\n",
       "      <th>Bytes</th>\n",
       "    </tr>\n",
       "  </thead>\n",
       "  <tbody>\n",
       "    <tr>\n",
       "      <th>0</th>\n",
       "      <td>local</td>\n",
       "      <td>1994-10-24 19:41:41+00:00</td>\n",
       "      <td>index.html</td>\n",
       "      <td>200</td>\n",
       "      <td>150</td>\n",
       "    </tr>\n",
       "    <tr>\n",
       "      <th>1</th>\n",
       "      <td>local</td>\n",
       "      <td>1994-10-24 19:41:41+00:00</td>\n",
       "      <td>1.gif</td>\n",
       "      <td>200</td>\n",
       "      <td>1210</td>\n",
       "    </tr>\n",
       "    <tr>\n",
       "      <th>2</th>\n",
       "      <td>local</td>\n",
       "      <td>1994-10-24 19:43:13+00:00</td>\n",
       "      <td>index.html</td>\n",
       "      <td>200</td>\n",
       "      <td>3185</td>\n",
       "    </tr>\n",
       "    <tr>\n",
       "      <th>3</th>\n",
       "      <td>local</td>\n",
       "      <td>1994-10-24 19:43:14+00:00</td>\n",
       "      <td>2.gif</td>\n",
       "      <td>200</td>\n",
       "      <td>2555</td>\n",
       "    </tr>\n",
       "    <tr>\n",
       "      <th>4</th>\n",
       "      <td>local</td>\n",
       "      <td>1994-10-24 19:43:15+00:00</td>\n",
       "      <td>3.gif</td>\n",
       "      <td>200</td>\n",
       "      <td>36403</td>\n",
       "    </tr>\n",
       "  </tbody>\n",
       "</table>\n",
       "</div>"
      ],
      "text/plain": [
       "    Host                 Timestamp    Filename HTTP_reply_code  Bytes\n",
       "0  local 1994-10-24 19:41:41+00:00  index.html             200    150\n",
       "1  local 1994-10-24 19:41:41+00:00       1.gif             200   1210\n",
       "2  local 1994-10-24 19:43:13+00:00  index.html             200   3185\n",
       "3  local 1994-10-24 19:43:14+00:00       2.gif             200   2555\n",
       "4  local 1994-10-24 19:43:15+00:00       3.gif             200  36403"
      ]
     },
     "execution_count": 41,
     "metadata": {},
     "output_type": "execute_result"
    }
   ],
   "source": [
    "# Try reading the file with ISO-8859-1 encoding which is more permissive than UTF-8\n",
    "data = []\n",
    "with open(file_path, 'r', encoding='ISO-8859-1') as file:\n",
    "    for line in file:\n",
    "        parsed_data = parse_log_line(line)\n",
    "        if all(value is not None for value in parsed_data):  # Ensure no None values are added\n",
    "            data.append(parsed_data)\n",
    "\n",
    "# Convert the list to a DataFrame\n",
    "columns = ['Host', 'Timestamp', 'Filename', 'HTTP_reply_code', 'Bytes']\n",
    "df = pd.DataFrame(data, columns=columns)\n",
    "\n",
    "# Convert timestamp to datetime object for easier manipulation\n",
    "df['Timestamp'] = pd.to_datetime(df['Timestamp'], format='%d/%b/%Y:%H:%M:%S %z', errors='coerce', utc=True)\n",
    "\n",
    "# Display the first few rows of the new DataFrame\n",
    "df.head()"
   ]
  },
  {
   "cell_type": "code",
   "execution_count": 42,
   "id": "643362f2-833c-46b5-b2b6-682bb2f1bd8a",
   "metadata": {},
   "outputs": [],
   "source": [
    "# Removing 'Host' and 'Filename' columns from the DataFrame\n",
    "df = df.drop(['Host', 'Filename'], axis=1)"
   ]
  },
  {
   "cell_type": "code",
   "execution_count": 43,
   "id": "11d2f179-722d-4c99-b1e6-49da7fdf6a31",
   "metadata": {},
   "outputs": [
    {
     "data": {
      "text/html": [
       "<div>\n",
       "<style scoped>\n",
       "    .dataframe tbody tr th:only-of-type {\n",
       "        vertical-align: middle;\n",
       "    }\n",
       "\n",
       "    .dataframe tbody tr th {\n",
       "        vertical-align: top;\n",
       "    }\n",
       "\n",
       "    .dataframe thead th {\n",
       "        text-align: right;\n",
       "    }\n",
       "</style>\n",
       "<table border=\"1\" class=\"dataframe\">\n",
       "  <thead>\n",
       "    <tr style=\"text-align: right;\">\n",
       "      <th></th>\n",
       "      <th>Timestamp</th>\n",
       "      <th>HTTP_reply_code</th>\n",
       "      <th>Bytes</th>\n",
       "    </tr>\n",
       "  </thead>\n",
       "  <tbody>\n",
       "    <tr>\n",
       "      <th>0</th>\n",
       "      <td>1994-10-24 19:41:41+00:00</td>\n",
       "      <td>200</td>\n",
       "      <td>150</td>\n",
       "    </tr>\n",
       "    <tr>\n",
       "      <th>1</th>\n",
       "      <td>1994-10-24 19:41:41+00:00</td>\n",
       "      <td>200</td>\n",
       "      <td>1210</td>\n",
       "    </tr>\n",
       "    <tr>\n",
       "      <th>2</th>\n",
       "      <td>1994-10-24 19:43:13+00:00</td>\n",
       "      <td>200</td>\n",
       "      <td>3185</td>\n",
       "    </tr>\n",
       "    <tr>\n",
       "      <th>3</th>\n",
       "      <td>1994-10-24 19:43:14+00:00</td>\n",
       "      <td>200</td>\n",
       "      <td>2555</td>\n",
       "    </tr>\n",
       "    <tr>\n",
       "      <th>4</th>\n",
       "      <td>1994-10-24 19:43:15+00:00</td>\n",
       "      <td>200</td>\n",
       "      <td>36403</td>\n",
       "    </tr>\n",
       "    <tr>\n",
       "      <th>5</th>\n",
       "      <td>1994-10-24 19:43:17+00:00</td>\n",
       "      <td>200</td>\n",
       "      <td>441</td>\n",
       "    </tr>\n",
       "    <tr>\n",
       "      <th>6</th>\n",
       "      <td>1994-10-24 19:46:45+00:00</td>\n",
       "      <td>200</td>\n",
       "      <td>3185</td>\n",
       "    </tr>\n",
       "    <tr>\n",
       "      <th>7</th>\n",
       "      <td>1994-10-24 19:46:45+00:00</td>\n",
       "      <td>200</td>\n",
       "      <td>2555</td>\n",
       "    </tr>\n",
       "    <tr>\n",
       "      <th>8</th>\n",
       "      <td>1994-10-24 19:46:47+00:00</td>\n",
       "      <td>200</td>\n",
       "      <td>36403</td>\n",
       "    </tr>\n",
       "    <tr>\n",
       "      <th>9</th>\n",
       "      <td>1994-10-24 19:46:50+00:00</td>\n",
       "      <td>200</td>\n",
       "      <td>441</td>\n",
       "    </tr>\n",
       "    <tr>\n",
       "      <th>10</th>\n",
       "      <td>1994-10-24 19:47:19+00:00</td>\n",
       "      <td>200</td>\n",
       "      <td>150</td>\n",
       "    </tr>\n",
       "    <tr>\n",
       "      <th>11</th>\n",
       "      <td>1994-10-24 19:47:19+00:00</td>\n",
       "      <td>200</td>\n",
       "      <td>1210</td>\n",
       "    </tr>\n",
       "    <tr>\n",
       "      <th>12</th>\n",
       "      <td>1994-10-24 19:47:41+00:00</td>\n",
       "      <td>200</td>\n",
       "      <td>3185</td>\n",
       "    </tr>\n",
       "    <tr>\n",
       "      <th>13</th>\n",
       "      <td>1994-10-24 19:47:50+00:00</td>\n",
       "      <td>200</td>\n",
       "      <td>2065</td>\n",
       "    </tr>\n",
       "    <tr>\n",
       "      <th>14</th>\n",
       "      <td>1994-10-24 19:48:11+00:00</td>\n",
       "      <td>200</td>\n",
       "      <td>1124</td>\n",
       "    </tr>\n",
       "    <tr>\n",
       "      <th>15</th>\n",
       "      <td>1994-10-24 19:48:23+00:00</td>\n",
       "      <td>200</td>\n",
       "      <td>1538</td>\n",
       "    </tr>\n",
       "    <tr>\n",
       "      <th>16</th>\n",
       "      <td>1994-10-24 19:48:51+00:00</td>\n",
       "      <td>200</td>\n",
       "      <td>322</td>\n",
       "    </tr>\n",
       "    <tr>\n",
       "      <th>17</th>\n",
       "      <td>1994-10-24 19:49:01+00:00</td>\n",
       "      <td>200</td>\n",
       "      <td>999</td>\n",
       "    </tr>\n",
       "    <tr>\n",
       "      <th>18</th>\n",
       "      <td>1994-10-24 19:49:14+00:00</td>\n",
       "      <td>200</td>\n",
       "      <td>1248</td>\n",
       "    </tr>\n",
       "    <tr>\n",
       "      <th>19</th>\n",
       "      <td>1994-10-24 19:49:20+00:00</td>\n",
       "      <td>200</td>\n",
       "      <td>3185</td>\n",
       "    </tr>\n",
       "  </tbody>\n",
       "</table>\n",
       "</div>"
      ],
      "text/plain": [
       "                   Timestamp HTTP_reply_code  Bytes\n",
       "0  1994-10-24 19:41:41+00:00             200    150\n",
       "1  1994-10-24 19:41:41+00:00             200   1210\n",
       "2  1994-10-24 19:43:13+00:00             200   3185\n",
       "3  1994-10-24 19:43:14+00:00             200   2555\n",
       "4  1994-10-24 19:43:15+00:00             200  36403\n",
       "5  1994-10-24 19:43:17+00:00             200    441\n",
       "6  1994-10-24 19:46:45+00:00             200   3185\n",
       "7  1994-10-24 19:46:45+00:00             200   2555\n",
       "8  1994-10-24 19:46:47+00:00             200  36403\n",
       "9  1994-10-24 19:46:50+00:00             200    441\n",
       "10 1994-10-24 19:47:19+00:00             200    150\n",
       "11 1994-10-24 19:47:19+00:00             200   1210\n",
       "12 1994-10-24 19:47:41+00:00             200   3185\n",
       "13 1994-10-24 19:47:50+00:00             200   2065\n",
       "14 1994-10-24 19:48:11+00:00             200   1124\n",
       "15 1994-10-24 19:48:23+00:00             200   1538\n",
       "16 1994-10-24 19:48:51+00:00             200    322\n",
       "17 1994-10-24 19:49:01+00:00             200    999\n",
       "18 1994-10-24 19:49:14+00:00             200   1248\n",
       "19 1994-10-24 19:49:20+00:00             200   3185"
      ]
     },
     "execution_count": 43,
     "metadata": {},
     "output_type": "execute_result"
    }
   ],
   "source": [
    "# Display the updated DataFrame without 'Host' and 'Filename'\n",
    "df.head(20)"
   ]
  },
  {
   "cell_type": "markdown",
   "id": "8d69202e-5c39-440c-b009-5563420c3faa",
   "metadata": {},
   "source": [
    "# drop all of NA values"
   ]
  },
  {
   "cell_type": "code",
   "execution_count": 44,
   "id": "dde14a3d-d12d-4848-94e9-c0f5b820da5e",
   "metadata": {},
   "outputs": [
    {
     "data": {
      "text/html": [
       "<div>\n",
       "<style scoped>\n",
       "    .dataframe tbody tr th:only-of-type {\n",
       "        vertical-align: middle;\n",
       "    }\n",
       "\n",
       "    .dataframe tbody tr th {\n",
       "        vertical-align: top;\n",
       "    }\n",
       "\n",
       "    .dataframe thead th {\n",
       "        text-align: right;\n",
       "    }\n",
       "</style>\n",
       "<table border=\"1\" class=\"dataframe\">\n",
       "  <thead>\n",
       "    <tr style=\"text-align: right;\">\n",
       "      <th></th>\n",
       "      <th>Timestamp</th>\n",
       "      <th>HTTP_reply_code</th>\n",
       "      <th>Bytes</th>\n",
       "    </tr>\n",
       "  </thead>\n",
       "  <tbody>\n",
       "    <tr>\n",
       "      <th>0</th>\n",
       "      <td>1994-10-24 19:41:41+00:00</td>\n",
       "      <td>200</td>\n",
       "      <td>150</td>\n",
       "    </tr>\n",
       "    <tr>\n",
       "      <th>1</th>\n",
       "      <td>1994-10-24 19:41:41+00:00</td>\n",
       "      <td>200</td>\n",
       "      <td>1210</td>\n",
       "    </tr>\n",
       "    <tr>\n",
       "      <th>2</th>\n",
       "      <td>1994-10-24 19:43:13+00:00</td>\n",
       "      <td>200</td>\n",
       "      <td>3185</td>\n",
       "    </tr>\n",
       "    <tr>\n",
       "      <th>3</th>\n",
       "      <td>1994-10-24 19:43:14+00:00</td>\n",
       "      <td>200</td>\n",
       "      <td>2555</td>\n",
       "    </tr>\n",
       "    <tr>\n",
       "      <th>4</th>\n",
       "      <td>1994-10-24 19:43:15+00:00</td>\n",
       "      <td>200</td>\n",
       "      <td>36403</td>\n",
       "    </tr>\n",
       "  </tbody>\n",
       "</table>\n",
       "</div>"
      ],
      "text/plain": [
       "                  Timestamp HTTP_reply_code  Bytes\n",
       "0 1994-10-24 19:41:41+00:00             200    150\n",
       "1 1994-10-24 19:41:41+00:00             200   1210\n",
       "2 1994-10-24 19:43:13+00:00             200   3185\n",
       "3 1994-10-24 19:43:14+00:00             200   2555\n",
       "4 1994-10-24 19:43:15+00:00             200  36403"
      ]
     },
     "execution_count": 44,
     "metadata": {},
     "output_type": "execute_result"
    }
   ],
   "source": [
    "# Drop all NA values\n",
    "df.dropna(inplace=True)\n",
    "\n",
    "# Filter the dataset to only keep records from 1994-10-24\n",
    "filtered_df = df[df['Timestamp'].dt.date == pd.to_datetime('1994-10-24').date()]\n",
    "\n",
    "# Display the resulting DataFrame\n",
    "filtered_df.head()"
   ]
  },
  {
   "cell_type": "markdown",
   "id": "460e7d0b-aae5-410a-85c9-16ce862cf9ca",
   "metadata": {},
   "source": [
    "# "
   ]
  },
  {
   "cell_type": "markdown",
   "id": "aa85f628-18b3-402b-9769-9c5e7f78e566",
   "metadata": {},
   "source": [
    "# Check for Stationarity\n",
    "https://www.analyticsvidhya.com/blog/2021/08/vector-autoregressive-model-in-python/\n",
    "https://gist.github.com/kevincdurand1/e8307dfb3e370ca15bdbb97300037c71"
   ]
  },
  {
   "cell_type": "code",
   "execution_count": 13,
   "id": "264c3a86-1583-440e-a8a7-baaf537d2d62",
   "metadata": {},
   "outputs": [
    {
     "name": "stdout",
     "output_type": "stream",
     "text": [
      "Collecting statsmodels\n",
      "  Downloading statsmodels-0.14.2-cp312-cp312-manylinux_2_17_x86_64.manylinux2014_x86_64.whl.metadata (9.2 kB)\n",
      "Requirement already satisfied: numpy>=1.22.3 in /home/yanboyang713/.conda/envs/workload/lib/python3.12/site-packages (from statsmodels) (1.26.4)\n",
      "Collecting scipy!=1.9.2,>=1.8 (from statsmodels)\n",
      "  Using cached scipy-1.13.0-cp312-cp312-manylinux_2_17_x86_64.manylinux2014_x86_64.whl.metadata (60 kB)\n",
      "Requirement already satisfied: pandas!=2.1.0,>=1.4 in /home/yanboyang713/.conda/envs/workload/lib/python3.12/site-packages (from statsmodels) (2.2.2)\n",
      "Collecting patsy>=0.5.6 (from statsmodels)\n",
      "  Downloading patsy-0.5.6-py2.py3-none-any.whl.metadata (3.5 kB)\n",
      "Requirement already satisfied: packaging>=21.3 in /home/yanboyang713/.conda/envs/workload/lib/python3.12/site-packages (from statsmodels) (24.0)\n",
      "Requirement already satisfied: python-dateutil>=2.8.2 in /home/yanboyang713/.conda/envs/workload/lib/python3.12/site-packages (from pandas!=2.1.0,>=1.4->statsmodels) (2.9.0)\n",
      "Requirement already satisfied: pytz>=2020.1 in /home/yanboyang713/.conda/envs/workload/lib/python3.12/site-packages (from pandas!=2.1.0,>=1.4->statsmodels) (2024.1)\n",
      "Requirement already satisfied: tzdata>=2022.7 in /home/yanboyang713/.conda/envs/workload/lib/python3.12/site-packages (from pandas!=2.1.0,>=1.4->statsmodels) (2024.1)\n",
      "Requirement already satisfied: six in /home/yanboyang713/.conda/envs/workload/lib/python3.12/site-packages (from patsy>=0.5.6->statsmodels) (1.16.0)\n",
      "Downloading statsmodels-0.14.2-cp312-cp312-manylinux_2_17_x86_64.manylinux2014_x86_64.whl (10.7 MB)\n",
      "\u001b[2K   \u001b[38;2;114;156;31m━━━━━━━━━━━━━━━━━━━━━━━━━━━━━━━━━━━━━━━━\u001b[0m \u001b[32m10.7/10.7 MB\u001b[0m \u001b[31m6.5 MB/s\u001b[0m eta \u001b[36m0:00:00\u001b[0mm eta \u001b[36m0:00:01\u001b[0m[36m0:00:01\u001b[0m\n",
      "\u001b[?25hDownloading patsy-0.5.6-py2.py3-none-any.whl (233 kB)\n",
      "\u001b[2K   \u001b[38;2;114;156;31m━━━━━━━━━━━━━━━━━━━━━━━━━━━━━━━━━━━━━━━━\u001b[0m \u001b[32m233.9/233.9 kB\u001b[0m \u001b[31m9.0 MB/s\u001b[0m eta \u001b[36m0:00:00\u001b[0m\n",
      "\u001b[?25hUsing cached scipy-1.13.0-cp312-cp312-manylinux_2_17_x86_64.manylinux2014_x86_64.whl (38.2 MB)\n",
      "Installing collected packages: scipy, patsy, statsmodels\n",
      "Successfully installed patsy-0.5.6 scipy-1.13.0 statsmodels-0.14.2\n"
     ]
    }
   ],
   "source": [
    "!pip install statsmodels"
   ]
  },
  {
   "cell_type": "code",
   "execution_count": 45,
   "id": "02dbeefc-f21a-4ed0-81b6-e311955860ef",
   "metadata": {},
   "outputs": [],
   "source": [
    "from statsmodels.tsa.stattools import adfuller"
   ]
  },
  {
   "cell_type": "code",
   "execution_count": 46,
   "id": "d5defcae-e02c-4b75-8af8-cc389afa17d6",
   "metadata": {},
   "outputs": [],
   "source": [
    "def adf_test(series,title=''):\n",
    "    \"\"\"\n",
    "    Pass in a time series and an optional title, returns an ADF report\n",
    "    \"\"\"\n",
    "    print(f'Augmented Dickey-Fuller Test: {title}')\n",
    "    result = adfuller(series.dropna(),autolag='AIC') # .dropna() handles differenced data\n",
    "    labels = ['ADF test statistic','p-value','# lags used','# observations']\n",
    "    out = pd.Series(result[0:4],index=labels)\n",
    "    for key,val in result[4].items():\n",
    "        out[f'critical value ({key})']=val\n",
    "    print(out.to_string())          # .to_string() removes the line \"dtype: float64\"\n",
    "    if result[1] <= 0.05:\n",
    "        print(\"Strong evidence against the null hypothesis\")\n",
    "        print(\"Reject the null hypothesis\")\n",
    "        print(\"Data has no unit root and is stationary\")\n",
    "    else:\n",
    "        print(\"Weak evidence against the null hypothesis\")\n",
    "        print(\"Fail to reject the null hypothesis\")\n",
    "        print(\"Data has a unit root and is non-stationary\")"
   ]
  },
  {
   "cell_type": "code",
   "execution_count": 47,
   "id": "e3bc783e-8099-42ac-bf2d-37c5a27ccb37",
   "metadata": {},
   "outputs": [
    {
     "name": "stdout",
     "output_type": "stream",
     "text": [
      "Augmented Dickey-Fuller Test: \n",
      "ADF test statistic     -9.961431e+00\n",
      "p-value                 2.367901e-17\n",
      "# lags used             3.000000e+00\n",
      "# observations          4.570000e+02\n",
      "critical value (1%)    -3.444740e+00\n",
      "critical value (5%)    -2.867885e+00\n",
      "critical value (10%)   -2.570150e+00\n",
      "Strong evidence against the null hypothesis\n",
      "Reject the null hypothesis\n",
      "Data has no unit root and is stationary\n"
     ]
    }
   ],
   "source": [
    "adf_test(filtered_df['HTTP_reply_code'])"
   ]
  },
  {
   "cell_type": "code",
   "execution_count": 48,
   "id": "1e79f7ab-fbd6-44f1-a6d7-27965ce965eb",
   "metadata": {},
   "outputs": [
    {
     "name": "stdout",
     "output_type": "stream",
     "text": [
      "Augmented Dickey-Fuller Test: \n",
      "ADF test statistic       -3.762756\n",
      "p-value                   0.003312\n",
      "# lags used              11.000000\n",
      "# observations          449.000000\n",
      "critical value (1%)      -3.444998\n",
      "critical value (5%)      -2.867999\n",
      "critical value (10%)     -2.570210\n",
      "Strong evidence against the null hypothesis\n",
      "Reject the null hypothesis\n",
      "Data has no unit root and is stationary\n"
     ]
    }
   ],
   "source": [
    "adf_test(filtered_df['Bytes'])"
   ]
  },
  {
   "cell_type": "markdown",
   "id": "432cdf48-c740-461f-89cf-d028df04c618",
   "metadata": {},
   "source": [
    "# line chart"
   ]
  },
  {
   "cell_type": "code",
   "execution_count": 11,
   "id": "ff35a038-8cc9-4003-a994-720971fbeafb",
   "metadata": {
    "scrolled": true
   },
   "outputs": [
    {
     "name": "stdout",
     "output_type": "stream",
     "text": [
      "Collecting matplotlib\n",
      "  Downloading matplotlib-3.8.4-cp312-cp312-manylinux_2_17_x86_64.manylinux2014_x86_64.whl.metadata (5.8 kB)\n",
      "Collecting contourpy>=1.0.1 (from matplotlib)\n",
      "  Downloading contourpy-1.2.1-cp312-cp312-manylinux_2_17_x86_64.manylinux2014_x86_64.whl.metadata (5.8 kB)\n",
      "Collecting cycler>=0.10 (from matplotlib)\n",
      "  Downloading cycler-0.12.1-py3-none-any.whl.metadata (3.8 kB)\n",
      "Collecting fonttools>=4.22.0 (from matplotlib)\n",
      "  Downloading fonttools-4.51.0-cp312-cp312-manylinux_2_5_x86_64.manylinux1_x86_64.manylinux_2_17_x86_64.manylinux2014_x86_64.whl.metadata (159 kB)\n",
      "\u001b[2K     \u001b[38;2;114;156;31m━━━━━━━━━━━━━━━━━━━━━━━━━━━━━━━━━━━━━━━\u001b[0m \u001b[32m159.5/159.5 kB\u001b[0m \u001b[31m2.6 MB/s\u001b[0m eta \u001b[36m0:00:00\u001b[0m MB/s\u001b[0m eta \u001b[36m0:00:01\u001b[0m\n",
      "\u001b[?25hCollecting kiwisolver>=1.3.1 (from matplotlib)\n",
      "  Downloading kiwisolver-1.4.5-cp312-cp312-manylinux_2_17_x86_64.manylinux2014_x86_64.whl.metadata (6.4 kB)\n",
      "Requirement already satisfied: numpy>=1.21 in /home/yanboyang713/.conda/envs/workload/lib/python3.12/site-packages (from matplotlib) (1.26.4)\n",
      "Requirement already satisfied: packaging>=20.0 in /home/yanboyang713/.conda/envs/workload/lib/python3.12/site-packages (from matplotlib) (24.0)\n",
      "Collecting pillow>=8 (from matplotlib)\n",
      "  Downloading pillow-10.3.0-cp312-cp312-manylinux_2_28_x86_64.whl.metadata (9.2 kB)\n",
      "Collecting pyparsing>=2.3.1 (from matplotlib)\n",
      "  Downloading pyparsing-3.1.2-py3-none-any.whl.metadata (5.1 kB)\n",
      "Requirement already satisfied: python-dateutil>=2.7 in /home/yanboyang713/.conda/envs/workload/lib/python3.12/site-packages (from matplotlib) (2.9.0)\n",
      "Requirement already satisfied: six>=1.5 in /home/yanboyang713/.conda/envs/workload/lib/python3.12/site-packages (from python-dateutil>=2.7->matplotlib) (1.16.0)\n",
      "Downloading matplotlib-3.8.4-cp312-cp312-manylinux_2_17_x86_64.manylinux2014_x86_64.whl (11.6 MB)\n",
      "\u001b[2K   \u001b[38;2;114;156;31m━━━━━━━━━━━━━━━━━━━━━━━━━━━━━━━━━━━━━━━━\u001b[0m \u001b[32m11.6/11.6 MB\u001b[0m \u001b[31m15.2 MB/s\u001b[0m eta \u001b[36m0:00:00\u001b[0mm eta \u001b[36m0:00:01\u001b[0m[36m0:00:01\u001b[0m\n",
      "\u001b[?25hDownloading contourpy-1.2.1-cp312-cp312-manylinux_2_17_x86_64.manylinux2014_x86_64.whl (309 kB)\n",
      "\u001b[2K   \u001b[38;2;114;156;31m━━━━━━━━━━━━━━━━━━━━━━━━━━━━━━━━━━━━━━━━\u001b[0m \u001b[32m309.2/309.2 kB\u001b[0m \u001b[31m14.1 MB/s\u001b[0m eta \u001b[36m0:00:00\u001b[0m\n",
      "\u001b[?25hDownloading cycler-0.12.1-py3-none-any.whl (8.3 kB)\n",
      "Downloading fonttools-4.51.0-cp312-cp312-manylinux_2_5_x86_64.manylinux1_x86_64.manylinux_2_17_x86_64.manylinux2014_x86_64.whl (4.9 MB)\n",
      "\u001b[2K   \u001b[38;2;114;156;31m━━━━━━━━━━━━━━━━━━━━━━━━━━━━━━━━━━━━━━━━\u001b[0m \u001b[32m4.9/4.9 MB\u001b[0m \u001b[31m18.9 MB/s\u001b[0m eta \u001b[36m0:00:00\u001b[0mm eta \u001b[36m0:00:01\u001b[0m0:01\u001b[0m:01\u001b[0m\n",
      "\u001b[?25hDownloading kiwisolver-1.4.5-cp312-cp312-manylinux_2_17_x86_64.manylinux2014_x86_64.whl (1.5 MB)\n",
      "\u001b[2K   \u001b[38;2;114;156;31m━━━━━━━━━━━━━━━━━━━━━━━━━━━━━━━━━━━━━━━━\u001b[0m \u001b[32m1.5/1.5 MB\u001b[0m \u001b[31m14.8 MB/s\u001b[0m eta \u001b[36m0:00:00\u001b[0m31m17.7 MB/s\u001b[0m eta \u001b[36m0:00:01\u001b[0m\n",
      "\u001b[?25hDownloading pillow-10.3.0-cp312-cp312-manylinux_2_28_x86_64.whl (4.5 MB)\n",
      "\u001b[2K   \u001b[38;2;114;156;31m━━━━━━━━━━━━━━━━━━━━━━━━━━━━━━━━━━━━━━━━\u001b[0m \u001b[32m4.5/4.5 MB\u001b[0m \u001b[31m15.8 MB/s\u001b[0m eta \u001b[36m0:00:00\u001b[0m MB/s\u001b[0m eta \u001b[36m0:00:01\u001b[0m:01\u001b[0m\n",
      "\u001b[?25hDownloading pyparsing-3.1.2-py3-none-any.whl (103 kB)\n",
      "\u001b[2K   \u001b[38;2;114;156;31m━━━━━━━━━━━━━━━━━━━━━━━━━━━━━━━━━━━━━━━━\u001b[0m \u001b[32m103.2/103.2 kB\u001b[0m \u001b[31m8.9 MB/s\u001b[0m eta \u001b[36m0:00:00\u001b[0m\n",
      "\u001b[?25hInstalling collected packages: pyparsing, pillow, kiwisolver, fonttools, cycler, contourpy, matplotlib\n",
      "Successfully installed contourpy-1.2.1 cycler-0.12.1 fonttools-4.51.0 kiwisolver-1.4.5 matplotlib-3.8.4 pillow-10.3.0 pyparsing-3.1.2\n"
     ]
    }
   ],
   "source": [
    "!pip install matplotlib"
   ]
  },
  {
   "cell_type": "code",
   "execution_count": 49,
   "id": "3d8940ff-a6d7-4027-9668-bdb1f24e61ed",
   "metadata": {},
   "outputs": [
    {
     "name": "stderr",
     "output_type": "stream",
     "text": [
      "/tmp/ipykernel_8985/1053960319.py:4: SettingWithCopyWarning: \n",
      "A value is trying to be set on a copy of a slice from a DataFrame.\n",
      "Try using .loc[row_indexer,col_indexer] = value instead\n",
      "\n",
      "See the caveats in the documentation: https://pandas.pydata.org/pandas-docs/stable/user_guide/indexing.html#returning-a-view-versus-a-copy\n",
      "  filtered_df['HTTP_reply_code'] = filtered_df['HTTP_reply_code'].astype(int)\n"
     ]
    },
    {
     "data": {
      "image/png": "[encoded data removed]",
      "text/plain": [
       "<Figure size 1000x500 with 1 Axes>"
      ]
     },
     "metadata": {},
     "output_type": "display_data"
    }
   ],
   "source": [
    "import matplotlib.pyplot as plt\n",
    "\n",
    "# Converting 'HTTP_reply_code' to integer for plotting\n",
    "filtered_df['HTTP_reply_code'] = filtered_df['HTTP_reply_code'].astype(int)\n",
    "\n",
    "# Plotting the line chart\n",
    "plt.figure(figsize=(10, 5))\n",
    "plt.plot(filtered_df['Timestamp'], filtered_df['Bytes'], label='Bytes Sent', color='blue')\n",
    "plt.title('Bytes Sent Over Time on 1994-10-24')\n",
    "plt.xlabel('Timestamp')\n",
    "plt.ylabel('Bytes Sent')\n",
    "plt.grid(True)\n",
    "\n",
    "# Adding HTTP reply codes as text labels to the plot for better clarity\n",
    "for idx, row in filtered_df.iterrows():\n",
    "    plt.text(row['Timestamp'], row['Bytes'], str(row['HTTP_reply_code']), color='red')\n",
    "\n",
    "plt.legend()\n",
    "plt.show()\n"
   ]
  },
  {
   "cell_type": "markdown",
   "id": "638e322b-2ecb-48d2-b14d-77e90358c7fb",
   "metadata": {},
   "source": [
    "# Train-Test Split"
   ]
  },
  {
   "cell_type": "code",
   "execution_count": 50,
   "id": "4073b95c-a376-4af7-bea0-3f6e132eaf52",
   "metadata": {},
   "outputs": [],
   "source": [
    "test_obs = 12\n",
    "train = filtered_df[:-test_obs]\n",
    "test = filtered_df[-test_obs:]"
   ]
  },
  {
   "cell_type": "markdown",
   "id": "606998eb-a5cf-4d97-b6f0-3eb70666046c",
   "metadata": {},
   "source": [
    "# Vector AutoRegressive Model (VAR)"
   ]
  },
  {
   "cell_type": "markdown",
   "id": "b1f91504-7938-41da-8e5f-f0b7bd411c83",
   "metadata": {},
   "source": [
    "## Grid Search for Order P"
   ]
  },
  {
   "cell_type": "code",
   "execution_count": 51,
   "id": "6dde0a2f-60c9-4b6b-a035-f717de6f0f66",
   "metadata": {},
   "outputs": [
    {
     "data": {
      "text/plain": [
       "((2, 25.32996956384271),\n",
       " [(1, 25.491057429537808),\n",
       "  (2, 25.32996956384271),\n",
       "  (3, 25.334787940413957),\n",
       "  (4, 25.33939006446994),\n",
       "  (5, 25.354081847631534),\n",
       "  (6, 25.37401196003988),\n",
       "  (7, 25.37254328178693),\n",
       "  (8, 25.39434072421063),\n",
       "  (9, 25.414533549755443),\n",
       "  (10, 25.437104616022275),\n",
       "  (11, 25.451880608713413),\n",
       "  (12, 25.456106239792746),\n",
       "  (13, 25.478398964051596),\n",
       "  (14, 25.500092797716498),\n",
       "  (15, 25.520377095879496)])"
      ]
     },
     "execution_count": 51,
     "metadata": {},
     "output_type": "execute_result"
    }
   ],
   "source": [
    "from statsmodels.tsa.vector_ar.var_model import VAR\n",
    "import numpy as np\n",
    "\n",
    "# Define the range of lag orders to test\n",
    "max_lags = 15\n",
    "results_aic = []\n",
    "\n",
    "# Fit VAR model for each lag order and store the AIC\n",
    "for p in range(1, max_lags + 1):\n",
    "    model = VAR(train[['Bytes', 'HTTP_reply_code']])\n",
    "    result = model.fit(maxlags=p)\n",
    "    results_aic.append((p, result.aic))\n",
    "\n",
    "# Find the order p with the lowest AIC\n",
    "best_p = sorted(results_aic, key=lambda x: x[1])[0]\n",
    "\n",
    "best_p, results_aic"
   ]
  },
  {
   "cell_type": "markdown",
   "id": "f5c3a2cc-a3e6-45af-87d6-818dce703fd6",
   "metadata": {},
   "source": [
    "## Fit VAR(2) Model"
   ]
  },
  {
   "cell_type": "code",
   "execution_count": 52,
   "id": "eccdb723-5f20-4993-a6bf-1714a010b330",
   "metadata": {},
   "outputs": [
    {
     "data": {
      "text/plain": [
       "  Summary of Regression Results   \n",
       "==================================\n",
       "Model:                         VAR\n",
       "Method:                        OLS\n",
       "Date:           Tue, 30, Apr, 2024\n",
       "Time:                     01:54:27\n",
       "--------------------------------------------------------------------\n",
       "No. of Equations:         2.00000    BIC:                    25.4217\n",
       "Nobs:                     447.000    HQIC:                   25.3662\n",
       "Log likelihood:          -6919.78    FPE:                1.00154e+11\n",
       "AIC:                      25.3300    Det(Omega_mle):     9.79501e+10\n",
       "--------------------------------------------------------------------\n",
       "Results for equation Bytes\n",
       "=====================================================================================\n",
       "                        coefficient       std. error           t-stat            prob\n",
       "-------------------------------------------------------------------------------------\n",
       "const                  37043.392609     61747.033034            0.600           0.549\n",
       "L1.Bytes                   0.063320         0.045990            1.377           0.169\n",
       "L1.HTTP_reply_code       -67.387914       216.484839           -0.311           0.756\n",
       "L2.Bytes                   0.255410         0.045986            5.554           0.000\n",
       "L2.HTTP_reply_code       -74.594784       216.494073           -0.345           0.730\n",
       "=====================================================================================\n",
       "\n",
       "Results for equation HTTP_reply_code\n",
       "=====================================================================================\n",
       "                        coefficient       std. error           t-stat            prob\n",
       "-------------------------------------------------------------------------------------\n",
       "const                    135.437980        12.810929           10.572           0.000\n",
       "L1.Bytes                  -0.000003         0.000010           -0.307           0.759\n",
       "L1.HTTP_reply_code        -0.004348         0.044915           -0.097           0.923\n",
       "L2.Bytes                   0.000006         0.000010            0.672           0.502\n",
       "L2.HTTP_reply_code         0.329296         0.044917            7.331           0.000\n",
       "=====================================================================================\n",
       "\n",
       "Correlation matrix of residuals\n",
       "                      Bytes  HTTP_reply_code\n",
       "Bytes              1.000000        -0.027257\n",
       "HTTP_reply_code   -0.027257         1.000000\n",
       "\n"
      ]
     },
     "execution_count": 52,
     "metadata": {},
     "output_type": "execute_result"
    }
   ],
   "source": [
    "result = model.fit(2)\n",
    "result.summary()"
   ]
  },
  {
   "cell_type": "markdown",
   "id": "83142ee3-a767-4e42-b8a5-c57d163862e4",
   "metadata": {},
   "source": [
    "## Predict Test Data"
   ]
  },
  {
   "cell_type": "code",
   "execution_count": 53,
   "id": "22589b63-a426-42f3-a97c-08d344411e91",
   "metadata": {},
   "outputs": [
    {
     "data": {
      "text/html": [
       "<div>\n",
       "<style scoped>\n",
       "    .dataframe tbody tr th:only-of-type {\n",
       "        vertical-align: middle;\n",
       "    }\n",
       "\n",
       "    .dataframe tbody tr th {\n",
       "        vertical-align: top;\n",
       "    }\n",
       "\n",
       "    .dataframe thead th {\n",
       "        text-align: right;\n",
       "    }\n",
       "</style>\n",
       "<table border=\"1\" class=\"dataframe\">\n",
       "  <thead>\n",
       "    <tr style=\"text-align: right;\">\n",
       "      <th></th>\n",
       "      <th>Timestamp</th>\n",
       "      <th>HTTP_reply_code</th>\n",
       "      <th>Bytes</th>\n",
       "      <th>Bytes_forecast</th>\n",
       "      <th>HTTP_reply_code_forecast</th>\n",
       "    </tr>\n",
       "  </thead>\n",
       "  <tbody>\n",
       "    <tr>\n",
       "      <th>449</th>\n",
       "      <td>1994-10-24 23:57:41+00:00</td>\n",
       "      <td>200</td>\n",
       "      <td>1161</td>\n",
       "      <td>9490.671995</td>\n",
       "      <td>200.445012</td>\n",
       "    </tr>\n",
       "    <tr>\n",
       "      <th>450</th>\n",
       "      <td>1994-10-24 23:57:46+00:00</td>\n",
       "      <td>200</td>\n",
       "      <td>2904</td>\n",
       "      <td>9427.762991</td>\n",
       "      <td>200.403082</td>\n",
       "    </tr>\n",
       "    <tr>\n",
       "      <th>451</th>\n",
       "      <td>1994-10-24 23:58:03+00:00</td>\n",
       "      <td>200</td>\n",
       "      <td>709</td>\n",
       "      <td>11607.471603</td>\n",
       "      <td>200.605558</td>\n",
       "    </tr>\n",
       "    <tr>\n",
       "      <th>452</th>\n",
       "      <td>1994-10-24 23:58:06+00:00</td>\n",
       "      <td>200</td>\n",
       "      <td>6627</td>\n",
       "      <td>11718.907068</td>\n",
       "      <td>200.584082</td>\n",
       "    </tr>\n",
       "    <tr>\n",
       "      <th>453</th>\n",
       "      <td>1994-10-24 23:58:13+00:00</td>\n",
       "      <td>200</td>\n",
       "      <td>2323</td>\n",
       "      <td>12269.025271</td>\n",
       "      <td>200.664496</td>\n",
       "    </tr>\n",
       "    <tr>\n",
       "      <th>454</th>\n",
       "      <td>1994-10-24 23:58:18+00:00</td>\n",
       "      <td>200</td>\n",
       "      <td>9585</td>\n",
       "      <td>12328.503639</td>\n",
       "      <td>200.656177</td>\n",
       "    </tr>\n",
       "    <tr>\n",
       "      <th>455</th>\n",
       "      <td>1994-10-24 23:58:54+00:00</td>\n",
       "      <td>200</td>\n",
       "      <td>3185</td>\n",
       "      <td>12467.337411</td>\n",
       "      <td>200.686045</td>\n",
       "    </tr>\n",
       "    <tr>\n",
       "      <th>456</th>\n",
       "      <td>1994-10-24 23:58:54+00:00</td>\n",
       "      <td>200</td>\n",
       "      <td>2555</td>\n",
       "      <td>12489.927509</td>\n",
       "      <td>200.683151</td>\n",
       "    </tr>\n",
       "    <tr>\n",
       "      <th>457</th>\n",
       "      <td>1994-10-24 23:58:55+00:00</td>\n",
       "      <td>200</td>\n",
       "      <td>36403</td>\n",
       "      <td>12524.784435</td>\n",
       "      <td>200.693823</td>\n",
       "    </tr>\n",
       "    <tr>\n",
       "      <th>458</th>\n",
       "      <td>1994-10-24 23:58:56+00:00</td>\n",
       "      <td>200</td>\n",
       "      <td>441</td>\n",
       "      <td>12532.258075</td>\n",
       "      <td>200.692866</td>\n",
       "    </tr>\n",
       "    <tr>\n",
       "      <th>459</th>\n",
       "      <td>1994-10-24 23:59:06+00:00</td>\n",
       "      <td>200</td>\n",
       "      <td>2231</td>\n",
       "      <td>12540.902514</td>\n",
       "      <td>200.696586</td>\n",
       "    </tr>\n",
       "    <tr>\n",
       "      <th>460</th>\n",
       "      <td>1994-10-24 23:59:13+00:00</td>\n",
       "      <td>200</td>\n",
       "      <td>2534</td>\n",
       "      <td>12543.179421</td>\n",
       "      <td>200.696277</td>\n",
       "    </tr>\n",
       "  </tbody>\n",
       "</table>\n",
       "</div>"
      ],
      "text/plain": [
       "                    Timestamp  HTTP_reply_code  Bytes  Bytes_forecast  \\\n",
       "449 1994-10-24 23:57:41+00:00              200   1161     9490.671995   \n",
       "450 1994-10-24 23:57:46+00:00              200   2904     9427.762991   \n",
       "451 1994-10-24 23:58:03+00:00              200    709    11607.471603   \n",
       "452 1994-10-24 23:58:06+00:00              200   6627    11718.907068   \n",
       "453 1994-10-24 23:58:13+00:00              200   2323    12269.025271   \n",
       "454 1994-10-24 23:58:18+00:00              200   9585    12328.503639   \n",
       "455 1994-10-24 23:58:54+00:00              200   3185    12467.337411   \n",
       "456 1994-10-24 23:58:54+00:00              200   2555    12489.927509   \n",
       "457 1994-10-24 23:58:55+00:00              200  36403    12524.784435   \n",
       "458 1994-10-24 23:58:56+00:00              200    441    12532.258075   \n",
       "459 1994-10-24 23:59:06+00:00              200   2231    12540.902514   \n",
       "460 1994-10-24 23:59:13+00:00              200   2534    12543.179421   \n",
       "\n",
       "     HTTP_reply_code_forecast  \n",
       "449                200.445012  \n",
       "450                200.403082  \n",
       "451                200.605558  \n",
       "452                200.584082  \n",
       "453                200.664496  \n",
       "454                200.656177  \n",
       "455                200.686045  \n",
       "456                200.683151  \n",
       "457                200.693823  \n",
       "458                200.692866  \n",
       "459                200.696586  \n",
       "460                200.696277  "
      ]
     },
     "execution_count": 53,
     "metadata": {},
     "output_type": "execute_result"
    }
   ],
   "source": [
    "# Forecasting 12 steps ahead which corresponds to the length of the test set\n",
    "lag_order = result.k_ar\n",
    "forecast_input = train[['Bytes', 'HTTP_reply_code']].values[-lag_order:]\n",
    "forecast = result.forecast(y=forecast_input, steps=len(test))\n",
    "\n",
    "# Creating a DataFrame for the forecasted values\n",
    "forecast_df = pd.DataFrame(forecast, index=test.index, columns=['Bytes_forecast', 'HTTP_reply_code_forecast'])\n",
    "\n",
    "# Combining the forecasted values with the actual test data for comparison\n",
    "test_forecasted = pd.concat([test, forecast_df], axis=1)\n",
    "test_forecasted\n"
   ]
  },
  {
   "cell_type": "markdown",
   "id": "f65bec8c-9e19-4a37-893a-e3111e0a0470",
   "metadata": {},
   "source": [
    "## Plot the Result"
   ]
  },
  {
   "cell_type": "code",
   "execution_count": 54,
   "id": "29e11619-bdf4-4a64-abb5-2591f22655ad",
   "metadata": {},
   "outputs": [
    {
     "data": {
      "image/png": "[encoded data removed]",
      "text/plain": [
       "<Figure size 1400x700 with 2 Axes>"
      ]
     },
     "metadata": {},
     "output_type": "display_data"
    }
   ],
   "source": [
    "# Plotting the actual vs forecasted values for 'Bytes' and 'HTTP_reply_code'\n",
    "plt.figure(figsize=(14, 7))\n",
    "\n",
    "# Plot for 'Bytes'\n",
    "plt.subplot(1, 2, 1)\n",
    "plt.plot(test['Timestamp'], test['Bytes'], label='Actual Bytes', marker='o')\n",
    "plt.plot(test['Timestamp'], forecast_df['Bytes_forecast'], label='Forecasted Bytes', marker='x')\n",
    "plt.title('Actual vs Forecasted Bytes')\n",
    "plt.xlabel('Timestamp')\n",
    "plt.ylabel('Bytes')\n",
    "plt.xticks(rotation=45)\n",
    "plt.legend()\n",
    "plt.grid(True)\n",
    "\n",
    "# Plot for 'HTTP_reply_code'\n",
    "plt.subplot(1, 2, 2)\n",
    "plt.plot(test['Timestamp'], test['HTTP_reply_code'], label='Actual HTTP Reply Code', marker='o')\n",
    "plt.plot(test['Timestamp'], forecast_df['HTTP_reply_code_forecast'], label='Forecasted HTTP Reply Code', marker='x')\n",
    "plt.title('Actual vs Forecasted HTTP Reply Code')\n",
    "plt.xlabel('Timestamp')\n",
    "plt.ylabel('HTTP Reply Code')\n",
    "plt.xticks(rotation=45)\n",
    "plt.legend()\n",
    "plt.grid(True)\n",
    "\n",
    "plt.tight_layout()\n",
    "plt.show()\n"
   ]
  },
  {
   "cell_type": "markdown",
   "id": "e29a3165-5828-4a01-9c5b-b06009b638be",
   "metadata": {},
   "source": [
    "## mean absolute error"
   ]
  },
  {
   "cell_type": "code",
   "execution_count": 55,
   "id": "26f9c05d-ea7d-4881-b822-0705b7bf2124",
   "metadata": {},
   "outputs": [],
   "source": [
    "def mean_absolute_error(actual, predicted):\n",
    "    return sum(abs(a - p) for a, p in zip(actual, predicted)) / len(actual)"
   ]
  },
  {
   "cell_type": "code",
   "execution_count": 57,
   "id": "f9cc9ca3-c040-4b7c-96b4-fdc9913911ec",
   "metadata": {},
   "outputs": [
    {
     "name": "stdout",
     "output_type": "stream",
     "text": [
      "Mean Absolute Error: 9919.930255069301\n"
     ]
    }
   ],
   "source": [
    "mae = mean_absolute_error(test_forecasted[\"Bytes\"], test_forecasted[\"Bytes_forecast\"])\n",
    "print(\"Mean Absolute Error:\", mae)"
   ]
  },
  {
   "cell_type": "markdown",
   "id": "2e5cc9b4-8cae-4e43-939d-0cfd4536a368",
   "metadata": {},
   "source": [
    "# Large Bayesian vector auto regressions (BVARs)"
   ]
  },
  {
   "cell_type": "markdown",
   "id": "3ac18e11-2e13-4195-85ee-9a0936ff4ad2",
   "metadata": {},
   "source": [
    "##  Install PyMC3"
   ]
  },
  {
   "cell_type": "code",
   "execution_count": 63,
   "id": "e34e8b98-c063-4b51-8903-3a25ab1e2d70",
   "metadata": {
    "scrolled": true
   },
   "outputs": [
    {
     "name": "stdout",
     "output_type": "stream",
     "text": [
      "\n",
      "Looking for: ['pymc3']\n",
      "\n",
      "\u001b[31m\u001b[1merror    libmamba\u001b[m Could not open lockfile '/opt/mambaforge/pkgs/cache/cache.lock'\n",
      "\u001b[31m\u001b[1merror    libmamba\u001b[m Could not open lockfile '/opt/mambaforge/pkgs/cache/cache.lock'\n",
      "\u001b[?25l\u001b[2K\u001b[0G[+] 0.0s\n",
      "\u001b[2K\u001b[1A\u001b[2K\u001b[0G[+] 0.1s\n",
      "conda-forge/linux-64 \u001b[90m━━━━━╸\u001b[0m\u001b[33m━━━━━━━━━━━━━━━╸\u001b[0m\u001b[90m━\u001b[0m   0.0 B /  ??.?MB @  ??.?MB/s  0.1s\n",
      "conda-forge/noarch   \u001b[33m━━━━━━━━━━━╸\u001b[0m\u001b[90m━━━━━━━━━━━\u001b[0m   0.0 B /  ??.?MB @  ??.?MB/s  0.1s\u001b[2K\u001b[1A\u001b[2K\u001b[1A\u001b[2K\u001b[0G[+] 0.2s\n",
      "conda-forge/linux-64 \u001b[90m━━━━━━╸\u001b[0m\u001b[33m━━━━━━━━━━━━━━━━\u001b[0m   0.0 B /  ??.?MB @  ??.?MB/s  0.2s\n",
      "conda-forge/noarch   \u001b[33m━━━━━━━━━━━━╸\u001b[0m\u001b[90m━━━━━━━━━━\u001b[0m   0.0 B /  ??.?MB @  ??.?MB/s  0.2s\u001b[2K\u001b[1A\u001b[2K\u001b[1A\u001b[2K\u001b[0G[+] 0.3s\n",
      "conda-forge/linux-64 \u001b[90m━━━━━━━╸\u001b[0m\u001b[33m━━━━━━━━━━━━━━━\u001b[0m   0.0 B /  ??.?MB @  ??.?MB/s  0.3s\n",
      "conda-forge/noarch   \u001b[33m━━━━━━━━━━━━━╸\u001b[0m\u001b[90m━━━━━━━━━\u001b[0m   0.0 B /  ??.?MB @  ??.?MB/s  0.3s\u001b[2K\u001b[1A\u001b[2K\u001b[1A\u001b[2K\u001b[0G[+] 0.4s\n",
      "conda-forge/linux-64 \u001b[90m━━━━━━━╸\u001b[0m\u001b[33m━━━━━━━━━━━━━━━\u001b[0m   0.0 B /  ??.?MB @  ??.?MB/s  0.4s\n",
      "conda-forge/noarch   \u001b[33m━━━━━━━━━━━━━╸\u001b[0m\u001b[90m━━━━━━━━━\u001b[0m   0.0 B /  ??.?MB @  ??.?MB/s  0.4s\u001b[2K\u001b[1A\u001b[2K\u001b[1A\u001b[2K\u001b[0G[+] 0.5s\n",
      "conda-forge/linux-64 \u001b[90m━━━━━━━╸\u001b[0m\u001b[33m━━━━━━━━━━━━━━━\u001b[0m   0.0 B /  ??.?MB @  ??.?MB/s  0.5s\n",
      "conda-forge/noarch   \u001b[33m━━━━━━━━━━━━━╸\u001b[0m\u001b[90m━━━━━━━━━\u001b[0m   0.0 B /  ??.?MB @  ??.?MB/s  0.5s\u001b[2K\u001b[1A\u001b[2K\u001b[1A\u001b[2K\u001b[0G[+] 0.6s\n",
      "conda-forge/linux-64 \u001b[90m━━━━━━━━━╸\u001b[0m\u001b[33m━━━━━━━━━━━━━\u001b[0m   0.0 B /  ??.?MB @  ??.?MB/s  0.6s\n",
      "conda-forge/noarch   \u001b[33m━━━━━━━━━━━━━━━╸\u001b[0m\u001b[90m━━━━━━━\u001b[0m   0.0 B /  ??.?MB @  ??.?MB/s  0.6s\u001b[2K\u001b[1A\u001b[2K\u001b[1A\u001b[2K\u001b[0G[+] 0.7s\n",
      "conda-forge/linux-64 \u001b[90m━━━━━━━━━╸\u001b[0m\u001b[33m━━━━━━━━━━━━━\u001b[0m   0.0 B /  ??.?MB @  ??.?MB/s  0.7s\n",
      "conda-forge/noarch   \u001b[33m━━━━━━━━━━━━━━━╸\u001b[0m\u001b[90m━━━━━━━\u001b[0m   0.0 B /  ??.?MB @  ??.?MB/s  0.7s\u001b[2K\u001b[1A\u001b[2K\u001b[1A\u001b[2K\u001b[0G[+] 0.8s\n",
      "conda-forge/linux-64 \u001b[90m━━━━━━━━━━╸\u001b[0m\u001b[33m━━━━━━━━━━━━\u001b[0m   0.0 B /  ??.?MB @  ??.?MB/s  0.8s\n",
      "conda-forge/noarch   \u001b[90m╸\u001b[0m\u001b[33m━━━━━━━━━━━━━━━╸\u001b[0m\u001b[90m━━━━━━\u001b[0m   0.0 B /  ??.?MB @  ??.?MB/s  0.8s\u001b[2K\u001b[1A\u001b[2K\u001b[1A\u001b[2K\u001b[0G[+] 0.9s\n",
      "conda-forge/linux-64 \u001b[90m━━━━━━━━━━━━━━━━━━━━━━━\u001b[0m  58.9kB /  34.0MB @  68.5kB/s  0.9s\n",
      "conda-forge/noarch   \u001b[90m━━╸\u001b[0m\u001b[33m━━━━━━━━━━━━━━━╸\u001b[0m\u001b[90m━━━━\u001b[0m   0.0 B /  ??.?MB @  ??.?MB/s  0.9s\u001b[2K\u001b[1A\u001b[2K\u001b[1A\u001b[2K\u001b[0G[+] 1.0s\n",
      "conda-forge/linux-64 \u001b[90m━━━━━━━━━━━━━━━━━━━━━━━\u001b[0m   1.0MB /  34.0MB @   1.1MB/s  1.0s\n",
      "conda-forge/noarch   \u001b[90m━━━━╸\u001b[0m\u001b[33m━━━━━━━━━━━━━━━╸\u001b[0m\u001b[90m━━\u001b[0m   0.0 B /  ??.?MB @  ??.?MB/s  1.0s\u001b[2K\u001b[1A\u001b[2K\u001b[1A\u001b[2K\u001b[0G[+] 1.1s\n",
      "conda-forge/linux-64 ━╸\u001b[90m━━━━━━━━━━━━━━━━━━━━━\u001b[0m   3.2MB /  34.0MB @   3.0MB/s  1.1s\n",
      "conda-forge/noarch   \u001b[90m━━━━━━━╸\u001b[0m\u001b[33m━━━━━━━━━━━━━━━\u001b[0m   0.0 B /  ??.?MB @  ??.?MB/s  1.1s\u001b[2K\u001b[1A\u001b[2K\u001b[1A\u001b[2K\u001b[0G[+] 1.2s\n",
      "conda-forge/linux-64 ━━╸\u001b[90m━━━━━━━━━━━━━━━━━━━━\u001b[0m   5.4MB /  34.0MB @   4.6MB/s  1.2s\n",
      "conda-forge/noarch   \u001b[90m━━━━━━━━━━━━━━━━━━━━━━━\u001b[0m  54.0kB /  14.4MB @  45.8kB/s  1.2s\u001b[2K\u001b[1A\u001b[2K\u001b[1A\u001b[2K\u001b[0G[+] 1.3s\n",
      "conda-forge/linux-64 ━━━━╸\u001b[90m━━━━━━━━━━━━━━━━━━\u001b[0m   7.6MB /  34.0MB @   6.0MB/s  1.3s\n",
      "conda-forge/noarch   \u001b[90m━━━━━━━━━━━━━━━━━━━━━━━\u001b[0m 105.9kB /  14.4MB @  82.0kB/s  1.3s\u001b[2K\u001b[1A\u001b[2K\u001b[1A\u001b[2K\u001b[0G[+] 1.4s\n",
      "conda-forge/linux-64 ━━━━╸\u001b[90m━━━━━━━━━━━━━━━━━━\u001b[0m   8.4MB /  34.0MB @   6.3MB/s  1.4s\n",
      "conda-forge/noarch   \u001b[90m━━━━━━━━━━━━━━━━━━━━━━━\u001b[0m 179.9kB /  14.4MB @ 133.7kB/s  1.4s\u001b[2K\u001b[1A\u001b[2K\u001b[1A\u001b[2K\u001b[0G[+] 1.5s\n",
      "conda-forge/linux-64 ━━━━━╸\u001b[90m━━━━━━━━━━━━━━━━━\u001b[0m  10.0MB /  34.0MB @   6.9MB/s  1.5s\n",
      "conda-forge/noarch   \u001b[90m━━━━━━━━━━━━━━━━━━━━━━━\u001b[0m 403.9kB /  14.4MB @ 278.4kB/s  1.5s\u001b[2K\u001b[1A\u001b[2K\u001b[1A\u001b[2K\u001b[0G[+] 1.6s\n",
      "conda-forge/linux-64 ━━━━━━╸\u001b[90m━━━━━━━━━━━━━━━━\u001b[0m  11.2MB /  34.0MB @   7.1MB/s  1.6s\n",
      "conda-forge/noarch   \u001b[90m━━━━━━━━━━━━━━━━━━━━━━━\u001b[0m 698.8kB /  14.4MB @ 445.8kB/s  1.6s\u001b[2K\u001b[1A\u001b[2K\u001b[1A\u001b[2K\u001b[0G[+] 1.7s\n",
      "conda-forge/linux-64 ━━━━━━━╸\u001b[90m━━━━━━━━━━━━━━━\u001b[0m  12.8MB /  34.0MB @   7.7MB/s  1.7s\n",
      "conda-forge/noarch   ╸\u001b[90m━━━━━━━━━━━━━━━━━━━━━━\u001b[0m   1.1MB /  14.4MB @ 654.6kB/s  1.7s\u001b[2K\u001b[1A\u001b[2K\u001b[1A\u001b[2K\u001b[0G[+] 1.8s\n",
      "conda-forge/linux-64 ━━━━━━━━╸\u001b[90m━━━━━━━━━━━━━━\u001b[0m  14.0MB /  34.0MB @   7.9MB/s  1.8s\n",
      "conda-forge/noarch   ━╸\u001b[90m━━━━━━━━━━━━━━━━━━━━━\u001b[0m   1.3MB /  14.4MB @ 755.9kB/s  1.8s\u001b[2K\u001b[1A\u001b[2K\u001b[1A\u001b[2K\u001b[0G[+] 1.9s\n",
      "conda-forge/linux-64 ━━━━━━━━━╸\u001b[90m━━━━━━━━━━━━━\u001b[0m  15.6MB /  34.0MB @   8.3MB/s  1.9s\n",
      "conda-forge/noarch   ━╸\u001b[90m━━━━━━━━━━━━━━━━━━━━━\u001b[0m   1.8MB /  14.4MB @ 967.0kB/s  1.9s\u001b[2K\u001b[1A\u001b[2K\u001b[1A\u001b[2K\u001b[0G[+] 2.0s\n",
      "conda-forge/linux-64 ━━━━━━━━━━╸\u001b[90m━━━━━━━━━━━━\u001b[0m  17.3MB /  34.0MB @   8.7MB/s  2.0s\n",
      "conda-forge/noarch   ━╸\u001b[90m━━━━━━━━━━━━━━━━━━━━━\u001b[0m   2.0MB /  14.4MB @   1.0MB/s  2.0s\u001b[2K\u001b[1A\u001b[2K\u001b[1A\u001b[2K\u001b[0G[+] 2.1s\n",
      "conda-forge/linux-64 ━━━━━━━━━━━╸\u001b[90m━━━━━━━━━━━\u001b[0m  18.2MB /  34.0MB @   8.8MB/s  2.1s\n",
      "conda-forge/noarch   ━━╸\u001b[90m━━━━━━━━━━━━━━━━━━━━\u001b[0m   2.2MB /  14.4MB @   1.1MB/s  2.1s\u001b[2K\u001b[1A\u001b[2K\u001b[1A\u001b[2K\u001b[0G[+] 2.2s\n",
      "conda-forge/linux-64 ━━━━━━━━━━━━╸\u001b[90m━━━━━━━━━━\u001b[0m  20.0MB /  34.0MB @   9.2MB/s  2.2s\n",
      "conda-forge/noarch   ━━╸\u001b[90m━━━━━━━━━━━━━━━━━━━━\u001b[0m   2.6MB /  14.4MB @   1.2MB/s  2.2s\u001b[2K\u001b[1A\u001b[2K\u001b[1A\u001b[2K\u001b[0G[+] 2.3s\n",
      "conda-forge/linux-64 ━━━━━━━━━━━━━╸\u001b[90m━━━━━━━━━\u001b[0m  21.8MB /  34.0MB @   9.6MB/s  2.3s\n",
      "conda-forge/noarch   ━━━╸\u001b[90m━━━━━━━━━━━━━━━━━━━\u001b[0m   3.0MB /  14.4MB @   1.3MB/s  2.3s\u001b[2K\u001b[1A\u001b[2K\u001b[1A\u001b[2K\u001b[0G[+] 2.4s\n",
      "conda-forge/linux-64 ━━━━━━━━━━━━━━╸\u001b[90m━━━━━━━━\u001b[0m  22.9MB /  34.0MB @   9.6MB/s  2.4s\n",
      "conda-forge/noarch   ━━━━╸\u001b[90m━━━━━━━━━━━━━━━━━━\u001b[0m   3.2MB /  14.4MB @   1.3MB/s  2.4s\u001b[2K\u001b[1A\u001b[2K\u001b[1A\u001b[2K\u001b[0G[+] 2.5s\n",
      "conda-forge/linux-64 ━━━━━━━━━━━━━━━╸\u001b[90m━━━━━━━\u001b[0m  24.3MB /  34.0MB @   9.7MB/s  2.5s\n",
      "conda-forge/noarch   ━━━━╸\u001b[90m━━━━━━━━━━━━━━━━━━\u001b[0m   3.6MB /  14.4MB @   1.4MB/s  2.5s\u001b[2K\u001b[1A\u001b[2K\u001b[1A\u001b[2K\u001b[0G[+] 2.6s\n",
      "conda-forge/linux-64 ━━━━━━━━━━━━━━━━╸\u001b[90m━━━━━━\u001b[0m  25.8MB /  34.0MB @   9.9MB/s  2.6s\n",
      "conda-forge/noarch   ━━━━━╸\u001b[90m━━━━━━━━━━━━━━━━━\u001b[0m   4.0MB /  14.4MB @   1.6MB/s  2.6s\u001b[2K\u001b[1A\u001b[2K\u001b[1A\u001b[2K\u001b[0G[+] 2.7s\n",
      "conda-forge/linux-64 ━━━━━━━━━━━━━━━━━╸\u001b[90m━━━━━\u001b[0m  27.6MB /  34.0MB @  10.2MB/s  2.7s\n",
      "conda-forge/noarch   ━━━━━╸\u001b[90m━━━━━━━━━━━━━━━━━\u001b[0m   4.3MB /  14.4MB @   1.6MB/s  2.7s\u001b[2K\u001b[1A\u001b[2K\u001b[1A\u001b[2K\u001b[0G[+] 2.8s\n",
      "conda-forge/linux-64 ━━━━━━━━━━━━━━━━━━╸\u001b[90m━━━━\u001b[0m  29.3MB /  34.0MB @  10.5MB/s  2.8s\n",
      "conda-forge/noarch   ━━━━━━╸\u001b[90m━━━━━━━━━━━━━━━━\u001b[0m   4.7MB /  14.4MB @   1.7MB/s  2.8s\u001b[2K\u001b[1A\u001b[2K\u001b[1A\u001b[2K\u001b[0G[+] 2.9s\n",
      "conda-forge/linux-64 ━━━━━━━━━━━━━━━━━━━╸\u001b[90m━━━\u001b[0m  30.1MB /  34.0MB @  10.6MB/s  2.9s\n",
      "conda-forge/noarch   ━━━━━━━╸\u001b[90m━━━━━━━━━━━━━━━\u001b[0m   5.1MB /  14.4MB @   1.8MB/s  2.9s\u001b[2K\u001b[1A\u001b[2K\u001b[1A\u001b[2K\u001b[0G[+] 3.0s\n",
      "conda-forge/linux-64 ━━━━━━━━━━━━━━━━━━━━╸\u001b[90m━━\u001b[0m  31.8MB /  34.0MB @  10.8MB/s  3.0s\n",
      "conda-forge/noarch   ━━━━━━━╸\u001b[90m━━━━━━━━━━━━━━━\u001b[0m   5.5MB /  14.4MB @   1.9MB/s  3.0s\u001b[2K\u001b[1A\u001b[2K\u001b[1A\u001b[2K\u001b[0G[+] 3.1s\n",
      "conda-forge/linux-64 ━━━━━━━━━━━━━━━━━━━━━╸\u001b[90m━\u001b[0m  33.3MB /  34.0MB @  10.8MB/s  3.1s\n",
      "conda-forge/noarch   ━━━━━━━━╸\u001b[90m━━━━━━━━━━━━━━\u001b[0m   5.8MB /  14.4MB @   1.9MB/s  3.1s\u001b[2K\u001b[1A\u001b[2K\u001b[1A\u001b[2K\u001b[0G[+] 3.2s\n",
      "conda-forge/linux-64 ━━━━━━━━━━━━━━━━━━━━━━━  34.0MB /  34.0MB @  10.8MB/s  3.2s\n",
      "conda-forge/noarch   ━━━━━━━━╸\u001b[90m━━━━━━━━━━━━━━\u001b[0m   6.0MB /  14.4MB @   1.9MB/s  3.2s\u001b[2K\u001b[1A\u001b[2K\u001b[1A\u001b[2K\u001b[0G[+] 3.3s\n",
      "conda-forge/linux-64 ━━━━━━━━━━━━━━━━━━━━━━━  34.0MB /  34.0MB @  10.8MB/s  3.3s\n",
      "conda-forge/noarch   ━━━━━━━━╸\u001b[90m━━━━━━━━━━━━━━\u001b[0m   6.0MB /  14.4MB @   1.9MB/s  3.3s\u001b[2K\u001b[1A\u001b[2K\u001b[1A\u001b[2K\u001b[0G[+] 3.4s\n",
      "conda-forge/linux-64 ━━━━━━━━━━━━━━━━━━━━━━━  34.0MB /  34.0MB @  10.8MB/s  3.4s\n",
      "conda-forge/noarch   ━━━━━━━━╸\u001b[90m━━━━━━━━━━━━━━\u001b[0m   6.0MB /  14.4MB @   1.9MB/s  3.4s\u001b[2K\u001b[1A\u001b[2K\u001b[1A\u001b[2K\u001b[0Gconda-forge/linux-64                                34.0MB @  10.8MB/s  3.4s\n",
      "[+] 3.5s\n",
      "conda-forge/noarch ━━━━━━━━━━━━╸\u001b[90m━━━━━━━━━━━━\u001b[0m   7.8MB /  14.4MB @   2.2MB/s  3.5s\u001b[2K\u001b[1A\u001b[2K\u001b[0G[+] 3.6s\n",
      "conda-forge/noarch ━━━━━━━━━━━━━╸\u001b[90m━━━━━━━━━━━\u001b[0m   8.2MB /  14.4MB @   2.3MB/s  3.6s\u001b[2K\u001b[1A\u001b[2K\u001b[0G[+] 3.7s\n",
      "conda-forge/noarch ━━━━━━━━━━━━━╸\u001b[90m━━━━━━━━━━━\u001b[0m   8.4MB /  14.4MB @   2.3MB/s  3.7s\u001b[2K\u001b[1A\u001b[2K\u001b[0G[+] 3.8s\n",
      "conda-forge/noarch ━━━━━━━━━━━━━━╸\u001b[90m━━━━━━━━━━\u001b[0m   8.9MB /  14.4MB @   2.4MB/s  3.8s\u001b[2K\u001b[1A\u001b[2K\u001b[0G[+] 3.9s\n",
      "conda-forge/noarch ━━━━━━━━━━━━━━━╸\u001b[90m━━━━━━━━━\u001b[0m   9.4MB /  14.4MB @   2.4MB/s  3.9s\u001b[2K\u001b[1A\u001b[2K\u001b[0G[+] 4.0s\n",
      "conda-forge/noarch ━━━━━━━━━━━━━━━━╸\u001b[90m━━━━━━━━\u001b[0m  10.0MB /  14.4MB @   2.5MB/s  4.0s\u001b[2K\u001b[1A\u001b[2K\u001b[0G[+] 4.1s\n",
      "conda-forge/noarch ━━━━━━━━━━━━━━━━━╸\u001b[90m━━━━━━━\u001b[0m  10.6MB /  14.4MB @   2.6MB/s  4.1s\u001b[2K\u001b[1A\u001b[2K\u001b[0G[+] 4.2s\n",
      "conda-forge/noarch ━━━━━━━━━━━━━━━━━━╸\u001b[90m━━━━━━\u001b[0m  11.3MB /  14.4MB @   2.7MB/s  4.2s\u001b[2K\u001b[1A\u001b[2K\u001b[0G[+] 4.3s\n",
      "conda-forge/noarch ━━━━━━━━━━━━━━━━━━━╸\u001b[90m━━━━━\u001b[0m  11.9MB /  14.4MB @   2.8MB/s  4.3s\u001b[2K\u001b[1A\u001b[2K\u001b[0G[+] 4.4s\n",
      "conda-forge/noarch ━━━━━━━━━━━━━━━━━━━━╸\u001b[90m━━━━\u001b[0m  12.7MB /  14.4MB @   2.9MB/s  4.4s\u001b[2K\u001b[1A\u001b[2K\u001b[0G[+] 4.5s\n",
      "conda-forge/noarch ━━━━━━━━━━━━━━━━━━━━━━╸\u001b[90m━━\u001b[0m  13.4MB /  14.4MB @   3.0MB/s  4.5s\u001b[2K\u001b[1A\u001b[2K\u001b[0G[+] 4.6s\n",
      "\u001b[2K\u001b[1A\u001b[2K\u001b[0Gconda-forge/noarch                                  14.4MB @   3.1MB/s  4.6s\n",
      "\u001b[?25h\n",
      "Pinned packages:\n",
      "  - python 3.12.*\n",
      "\n",
      "\n",
      "\u001b[33m\u001b[1mwarning  libmamba\u001b[m Added empty dependency for problem type SOLVER_RULE_UPDATE\n",
      "Could not solve for environment specs\n",
      "The following packages are incompatible\n",
      "└─ \u001b[32mpymc3\u001b[0m is installable with the potential options\n",
      "   ├─ \u001b[32mpymc3 [3.0|3.0rc2|...|3.6]\u001b[0m would require\n",
      "   │  └─ \u001b[32mpython [2.7* |>=2.7,<2.8.0a0 ]\u001b[0m, which can be installed;\n",
      "   ├─ \u001b[32mpymc3 [3.0|3.0rc2|3.0rc4|3.0rc6]\u001b[0m would require\n",
      "   │  └─ \u001b[32mpython 3.4* \u001b[0m, which can be installed;\n",
      "   ├─ \u001b[32mpymc3 [3.0|3.0rc2|...|3.5.rc1]\u001b[0m would require\n",
      "   │  └─ \u001b[32mpython [3.5* |>=3.5,<3.6.0a0 ]\u001b[0m, which can be installed;\n",
      "   ├─ \u001b[32mpymc3 [3.0|3.1|...|3.5.rc1]\u001b[0m would require\n",
      "   │  └─ \u001b[32mpython 3.6* \u001b[0m, which can be installed;\n",
      "   ├─ \u001b[32mpymc3 [3.11.2|3.11.3|...|3.6]\u001b[0m would require\n",
      "   │  └─ \u001b[32mpython >=3.7,<3.8.0a0 \u001b[0m, which can be installed;\n",
      "   ├─ \u001b[32mpymc3 [3.11.2|3.11.3|3.11.4|3.11.5]\u001b[0m would require\n",
      "   │  └─ \u001b[32mpython >=3.8,<3.9.0a0 \u001b[0m, which can be installed;\n",
      "   ├─ \u001b[32mpymc3 [3.11.2|3.11.3|3.11.4|3.11.5]\u001b[0m would require\n",
      "   │  └─ \u001b[32mpython >=3.9,<3.10.0a0 \u001b[0m, which can be installed;\n",
      "   ├─ \u001b[32mpymc3 [3.5|3.6]\u001b[0m would require\n",
      "   │  └─ \u001b[32mpython >=3.6,<3.7.0a0 \u001b[0m, which can be installed;\n",
      "   ├─ \u001b[32mpymc3 3.10.0\u001b[0m would require\n",
      "   │  └─ \u001b[32mtheano-pymc 1.0.11 \u001b[0m with the potential options\n",
      "   │     ├─ \u001b[32mtheano-pymc [1.0.11|1.1.0|1.1.2]\u001b[0m would require\n",
      "   │     │  └─ \u001b[32mpython >=3.6,<3.7.0a0 \u001b[0m, which can be installed;\n",
      "   │     ├─ \u001b[32mtheano-pymc [1.0.11|1.1.0|1.1.2]\u001b[0m would require\n",
      "   │     │  └─ \u001b[32mpython >=3.7,<3.8.0a0 \u001b[0m, which can be installed;\n",
      "   │     └─ \u001b[32mtheano-pymc [1.0.11|1.1.0|1.1.2]\u001b[0m would require\n",
      "   │        └─ \u001b[32mpython >=3.8,<3.9.0a0 \u001b[0m, which can be installed;\n",
      "   ├─ \u001b[32mpymc3 [3.11.0|3.11.1|3.11.2]\u001b[0m would require\n",
      "   │  └─ \u001b[32mtheano-pymc [1.1.0 |1.1.2 ]\u001b[0m with the potential options\n",
      "   │     ├─ \u001b[32mtheano-pymc [1.0.11|1.1.0|1.1.2]\u001b[0m, which can be installed (as previously explained);\n",
      "   │     ├─ \u001b[32mtheano-pymc [1.0.11|1.1.0|1.1.2]\u001b[0m, which can be installed (as previously explained);\n",
      "   │     ├─ \u001b[32mtheano-pymc [1.0.11|1.1.0|1.1.2]\u001b[0m, which can be installed (as previously explained);\n",
      "   │     └─ \u001b[32mtheano-pymc [1.1.0|1.1.2]\u001b[0m would require\n",
      "   │        └─ \u001b[32mpython >=3.9,<3.10.0a0 \u001b[0m, which can be installed;\n",
      "   ├─ \u001b[32mpymc3 [3.7|3.8|3.9.1|3.9.2|3.9.3]\u001b[0m would require\n",
      "   │  └─ \u001b[32mtheano >=1.0.4 \u001b[0m with the potential options\n",
      "   │     ├─ \u001b[32mtheano 1.0.4\u001b[0m would require\n",
      "   │     │  └─ \u001b[32mpython >=2.7,<2.8.0a0 \u001b[0m, which can be installed;\n",
      "   │     ├─ \u001b[32mtheano [1.0.4|1.0.5]\u001b[0m would require\n",
      "   │     │  └─ \u001b[32mpython >=3.6,<3.7.0a0 \u001b[0m, which can be installed;\n",
      "   │     ├─ \u001b[32mtheano [1.0.4|1.0.5]\u001b[0m would require\n",
      "   │     │  └─ \u001b[32mpython >=3.7,<3.8.0a0 \u001b[0m, which can be installed;\n",
      "   │     ├─ \u001b[32mtheano [1.0.4|1.0.5]\u001b[0m would require\n",
      "   │     │  └─ \u001b[32mpython >=3.8,<3.9.0a0 \u001b[0m, which can be installed;\n",
      "   │     ├─ \u001b[32mtheano 1.0.5\u001b[0m would require\n",
      "   │     │  └─ \u001b[32mpython >=3.10,<3.11.0a0 \u001b[0m, which can be installed;\n",
      "   │     └─ \u001b[32mtheano 1.0.5\u001b[0m would require\n",
      "   │        └─ \u001b[32mpython >=3.9,<3.10.0a0 \u001b[0m, which can be installed;\n",
      "   ├─ \u001b[32mpymc3 [3.9.2|3.9.3]\u001b[0m would require\n",
      "   │  └─ \u001b[32mcontextvars\u001b[0m, which requires\n",
      "   │     └─ \u001b[32mpython >=3,<3.7 \u001b[0m, which can be installed;\n",
      "   └─ \u001b[32mpymc3 3.9.3\u001b[0m would require\n",
      "      └─ \u001b[32mtheano >=1.0.5 \u001b[0m, which can be installed (as previously explained).\n"
     ]
    }
   ],
   "source": [
    "!mamba install pymc3 -c conda-forge"
   ]
  },
  {
   "cell_type": "code",
   "execution_count": 64,
   "id": "6c775466-f5f1-4f89-b81b-e330a34c32cb",
   "metadata": {},
   "outputs": [
    {
     "ename": "ModuleNotFoundError",
     "evalue": "No module named 'pymc3'",
     "output_type": "error",
     "traceback": [
      "\u001b[0;31m---------------------------------------------------------------------------\u001b[0m",
      "\u001b[0;31mModuleNotFoundError\u001b[0m                       Traceback (most recent call last)",
      "Cell \u001b[0;32mIn[64], line 1\u001b[0m\n\u001b[0;32m----> 1\u001b[0m \u001b[38;5;28;01mimport\u001b[39;00m \u001b[38;5;21;01mpymc3\u001b[39;00m\n\u001b[1;32m      2\u001b[0m \u001b[38;5;28mprint\u001b[39m(pymc3\u001b[38;5;241m.\u001b[39m__version__)\n",
      "\u001b[0;31mModuleNotFoundError\u001b[0m: No module named 'pymc3'"
     ]
    }
   ],
   "source": [
    "import pymc3\n",
    "print(pymc3.__version__)\n"
   ]
  },
  {
   "cell_type": "code",
   "execution_count": null,
   "id": "0965dc67-fc00-4999-b11b-70a4a9a4c690",
   "metadata": {},
   "outputs": [],
   "source": []
  }
 ],
 "metadata": {
  "kernelspec": {
   "display_name": "Python 3 (ipykernel)",
   "language": "python",
   "name": "python3"
  },
  "language_info": {
   "codemirror_mode": {
    "name": "ipython",
    "version": 3
   },
   "file_extension": ".py",
   "mimetype": "text/x-python",
   "name": "python",
   "nbconvert_exporter": "python",
   "pygments_lexer": "ipython3",
   "version": "3.12.3"
  }
 },
 "nbformat": 4,
 "nbformat_minor": 5
}
